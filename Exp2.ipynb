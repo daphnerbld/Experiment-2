{
 "cells": [
  {
   "cell_type": "markdown",
   "id": "5ea60595-e628-4906-a307-83b2328cae26",
   "metadata": {},
   "source": [
    "# EXPERIMENT 2)"
   ]
  },
  {
   "cell_type": "markdown",
   "id": "de524300-c56c-47a7-8dc7-07b373667879",
   "metadata": {},
   "source": [
    "**NUMERICAL PYTHON (NUMPY)**"
   ]
  },
  {
   "cell_type": "markdown",
   "id": "5f0e8606-c7e2-4167-88d3-ab305ff074aa",
   "metadata": {},
   "source": [
    "Daphne P. Robleado\n",
    "*2ECE-A*"
   ]
  },
  {
   "cell_type": "markdown",
   "id": "26b2c3c1-60a2-44fe-93fd-48051d63ba23",
   "metadata": {},
   "source": [
    "September 1, 2024"
   ]
  },
  {
   "cell_type": "markdown",
   "id": "6127af46-3d17-45b2-8bcf-4a564030acc7",
   "metadata": {},
   "source": [
    "* **NORMALIZATION PROBLEM:**"
   ]
  },
  {
   "cell_type": "code",
   "execution_count": 19,
   "id": "3ead5157-9b45-47f6-866e-b821c5eaba04",
   "metadata": {},
   "outputs": [
    {
     "name": "stdout",
     "output_type": "stream",
     "text": [
      "Original ndarray X:\n",
      "[[0.64819084 0.55085209 0.02933441 0.54838157 0.46593195]\n",
      " [0.74213252 0.38973642 0.74366669 0.65017392 0.92304056]\n",
      " [0.62868188 0.08660264 0.01318719 0.55447082 0.72971829]\n",
      " [0.8637471  0.37584521 0.2276567  0.54135645 0.58627091]\n",
      " [0.25911407 0.80624174 0.71379724 0.128185   0.05498918]]\n",
      "\n",
      "Normalized ndarray:\n",
      "[[ 0.58397664  0.22361116 -1.70714069  0.21446484 -0.09077841]\n",
      " [ 0.93176556 -0.37286792  0.93744531  0.59131835  1.6015195 ]\n",
      " [ 0.51175096 -1.49512343 -1.76692057  0.23700835  0.88580584]\n",
      " [ 1.38200451 -0.42429566 -0.97291606  0.18845658  0.35473797]\n",
      " [-0.85645525  1.16910936  0.82686326 -1.34117809 -1.61216213]]\n"
     ]
    }
   ],
   "source": [
    "import numpy as np\n",
    "\n",
    "#Making and printing a random 5x5 array matrix\n",
    "X = np.random.rand(5, 5)\n",
    "\n",
    "print(\"Original ndarray X:\")\n",
    "print(X)\n",
    "\n",
    "#Normalization function\n",
    "mean = X.mean()\n",
    "std_dev = X.std()\n",
    "\n",
    "X_normalized = (X - mean) / std_dev\n",
    "\n",
    "print(\"\\nNormalized ndarray:\")\n",
    "print(X_normalized)\n",
    "\n",
    "#saving the value of normalization function\n",
    "np.save('X_normalized.npy', X_normalized)"
   ]
  },
  {
   "cell_type": "markdown",
   "id": "9a44debe-6548-4371-936d-a931199eadfb",
   "metadata": {},
   "source": [
    "* **DIVISIBLE BY 3 PROBLEM**"
   ]
  },
  {
   "cell_type": "code",
   "execution_count": 18,
   "id": "3c013dff-aa61-42c2-a282-670702228e84",
   "metadata": {},
   "outputs": [
    {
     "name": "stdout",
     "output_type": "stream",
     "text": [
      "Squared values from 1-100:\n",
      "[[    1     4     9    16    25    36    49    64    81   100]\n",
      " [  121   144   169   196   225   256   289   324   361   400]\n",
      " [  441   484   529   576   625   676   729   784   841   900]\n",
      " [  961  1024  1089  1156  1225  1296  1369  1444  1521  1600]\n",
      " [ 1681  1764  1849  1936  2025  2116  2209  2304  2401  2500]\n",
      " [ 2601  2704  2809  2916  3025  3136  3249  3364  3481  3600]\n",
      " [ 3721  3844  3969  4096  4225  4356  4489  4624  4761  4900]\n",
      " [ 5041  5184  5329  5476  5625  5776  5929  6084  6241  6400]\n",
      " [ 6561  6724  6889  7056  7225  7396  7569  7744  7921  8100]\n",
      " [ 8281  8464  8649  8836  9025  9216  9409  9604  9801 10000]]\n",
      "\n",
      "Elements divisible by 3:\n",
      "[   9   36   81  144  225  324  441  576  729  900 1089 1296 1521 1764\n",
      " 2025 2304 2601 2916 3249 3600 3969 4356 4761 5184 5625 6084 6561 7056\n",
      " 7569 8100 8649 9216 9801]\n"
     ]
    }
   ],
   "source": [
    "import numpy as np\n",
    "\n",
    "#Creating a matrix of perfect square values from 1-100\n",
    "A = np.array([i**2 for i in range(1, 101)])\n",
    "\n",
    "#Reshaping it to 10x10\n",
    "A = A.reshape(10, 10)\n",
    "\n",
    "#Printing the values\n",
    "print(\"Squared values from 1-100:\")\n",
    "print(A)\n",
    "\n",
    "#Divisible by 3 function\n",
    "div_by_3 = A[A % 3 == 0]\n",
    "\n",
    "print(\"\\nElements divisible by 3:\")\n",
    "print(div_by_3)\n",
    "\n",
    "#Saving the value of the function as np\n",
    "np.save('div_by_3.npy', div_by_3)"
   ]
  }
 ],
 "metadata": {
  "kernelspec": {
   "display_name": "Python 3 (ipykernel)",
   "language": "python",
   "name": "python3"
  },
  "language_info": {
   "codemirror_mode": {
    "name": "ipython",
    "version": 3
   },
   "file_extension": ".py",
   "mimetype": "text/x-python",
   "name": "python",
   "nbconvert_exporter": "python",
   "pygments_lexer": "ipython3",
   "version": "3.12.4"
  }
 },
 "nbformat": 4,
 "nbformat_minor": 5
}
